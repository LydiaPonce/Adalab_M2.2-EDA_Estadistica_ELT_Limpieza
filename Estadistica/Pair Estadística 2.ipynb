{
 "cells": [
  {
   "cell_type": "markdown",
   "metadata": {},
   "source": [
    "# 04/05 - Pair Programming Estadística II - Lidia y Tatiana"
   ]
  },
  {
   "cell_type": "code",
   "execution_count": 25,
   "metadata": {},
   "outputs": [],
   "source": [
    "import pandas as pd\n",
    "import numpy as np\n",
    "from scipy import stats\n",
    "import matplotlib.pyplot as plt\n",
    "import seaborn as sns"
   ]
  },
  {
   "cell_type": "code",
   "execution_count": 26,
   "metadata": {},
   "outputs": [
    {
     "data": {
      "text/html": [
       "<div>\n",
       "<style scoped>\n",
       "    .dataframe tbody tr th:only-of-type {\n",
       "        vertical-align: middle;\n",
       "    }\n",
       "\n",
       "    .dataframe tbody tr th {\n",
       "        vertical-align: top;\n",
       "    }\n",
       "\n",
       "    .dataframe thead th {\n",
       "        text-align: right;\n",
       "    }\n",
       "</style>\n",
       "<table border=\"1\" class=\"dataframe\">\n",
       "  <thead>\n",
       "    <tr style=\"text-align: right;\">\n",
       "      <th></th>\n",
       "      <th>Category</th>\n",
       "      <th>Rating</th>\n",
       "      <th>Reviews</th>\n",
       "      <th>Size</th>\n",
       "      <th>Installs</th>\n",
       "      <th>Type</th>\n",
       "      <th>Price</th>\n",
       "      <th>Content Rating</th>\n",
       "      <th>Genres</th>\n",
       "      <th>Last Updated</th>\n",
       "      <th>Current Ver</th>\n",
       "      <th>Android Ver</th>\n",
       "    </tr>\n",
       "    <tr>\n",
       "      <th>App</th>\n",
       "      <th></th>\n",
       "      <th></th>\n",
       "      <th></th>\n",
       "      <th></th>\n",
       "      <th></th>\n",
       "      <th></th>\n",
       "      <th></th>\n",
       "      <th></th>\n",
       "      <th></th>\n",
       "      <th></th>\n",
       "      <th></th>\n",
       "      <th></th>\n",
       "    </tr>\n",
       "  </thead>\n",
       "  <tbody>\n",
       "    <tr>\n",
       "      <th>Photo Editor &amp; Candy Camera &amp; Grid &amp; ScrapBook</th>\n",
       "      <td>ART_AND_DESIGN</td>\n",
       "      <td>4.1</td>\n",
       "      <td>159</td>\n",
       "      <td>19M</td>\n",
       "      <td>10,000+</td>\n",
       "      <td>Free</td>\n",
       "      <td>0</td>\n",
       "      <td>Everyone</td>\n",
       "      <td>Art &amp; Design</td>\n",
       "      <td>January 7, 2018</td>\n",
       "      <td>1.0.0</td>\n",
       "      <td>4.0.3 and up</td>\n",
       "    </tr>\n",
       "    <tr>\n",
       "      <th>Coloring book moana</th>\n",
       "      <td>ART_AND_DESIGN</td>\n",
       "      <td>3.9</td>\n",
       "      <td>967</td>\n",
       "      <td>14M</td>\n",
       "      <td>500,000+</td>\n",
       "      <td>Free</td>\n",
       "      <td>0</td>\n",
       "      <td>Everyone</td>\n",
       "      <td>Art &amp; Design;Pretend Play</td>\n",
       "      <td>January 15, 2018</td>\n",
       "      <td>2.0.0</td>\n",
       "      <td>4.0.3 and up</td>\n",
       "    </tr>\n",
       "    <tr>\n",
       "      <th>U Launcher Lite – FREE Live Cool Themes, Hide Apps</th>\n",
       "      <td>ART_AND_DESIGN</td>\n",
       "      <td>4.7</td>\n",
       "      <td>87510</td>\n",
       "      <td>8.7M</td>\n",
       "      <td>5,000,000+</td>\n",
       "      <td>Free</td>\n",
       "      <td>0</td>\n",
       "      <td>Everyone</td>\n",
       "      <td>Art &amp; Design</td>\n",
       "      <td>August 1, 2018</td>\n",
       "      <td>1.2.4</td>\n",
       "      <td>4.0.3 and up</td>\n",
       "    </tr>\n",
       "    <tr>\n",
       "      <th>Sketch - Draw &amp; Paint</th>\n",
       "      <td>ART_AND_DESIGN</td>\n",
       "      <td>4.5</td>\n",
       "      <td>215644</td>\n",
       "      <td>25M</td>\n",
       "      <td>50,000,000+</td>\n",
       "      <td>Free</td>\n",
       "      <td>0</td>\n",
       "      <td>Teen</td>\n",
       "      <td>Art &amp; Design</td>\n",
       "      <td>June 8, 2018</td>\n",
       "      <td>Varies with device</td>\n",
       "      <td>4.2 and up</td>\n",
       "    </tr>\n",
       "    <tr>\n",
       "      <th>Pixel Draw - Number Art Coloring Book</th>\n",
       "      <td>ART_AND_DESIGN</td>\n",
       "      <td>4.3</td>\n",
       "      <td>967</td>\n",
       "      <td>2.8M</td>\n",
       "      <td>100,000+</td>\n",
       "      <td>Free</td>\n",
       "      <td>0</td>\n",
       "      <td>Everyone</td>\n",
       "      <td>Art &amp; Design;Creativity</td>\n",
       "      <td>June 20, 2018</td>\n",
       "      <td>1.1</td>\n",
       "      <td>4.4 and up</td>\n",
       "    </tr>\n",
       "  </tbody>\n",
       "</table>\n",
       "</div>"
      ],
      "text/plain": [
       "                                                          Category  Rating  \\\n",
       "App                                                                          \n",
       "Photo Editor & Candy Camera & Grid & ScrapBook      ART_AND_DESIGN     4.1   \n",
       "Coloring book moana                                 ART_AND_DESIGN     3.9   \n",
       "U Launcher Lite – FREE Live Cool Themes, Hide Apps  ART_AND_DESIGN     4.7   \n",
       "Sketch - Draw & Paint                               ART_AND_DESIGN     4.5   \n",
       "Pixel Draw - Number Art Coloring Book               ART_AND_DESIGN     4.3   \n",
       "\n",
       "                                                   Reviews  Size     Installs  \\\n",
       "App                                                                             \n",
       "Photo Editor & Candy Camera & Grid & ScrapBook         159   19M      10,000+   \n",
       "Coloring book moana                                    967   14M     500,000+   \n",
       "U Launcher Lite – FREE Live Cool Themes, Hide Apps   87510  8.7M   5,000,000+   \n",
       "Sketch - Draw & Paint                               215644   25M  50,000,000+   \n",
       "Pixel Draw - Number Art Coloring Book                  967  2.8M     100,000+   \n",
       "\n",
       "                                                    Type Price Content Rating  \\\n",
       "App                                                                             \n",
       "Photo Editor & Candy Camera & Grid & ScrapBook      Free     0       Everyone   \n",
       "Coloring book moana                                 Free     0       Everyone   \n",
       "U Launcher Lite – FREE Live Cool Themes, Hide Apps  Free     0       Everyone   \n",
       "Sketch - Draw & Paint                               Free     0           Teen   \n",
       "Pixel Draw - Number Art Coloring Book               Free     0       Everyone   \n",
       "\n",
       "                                                                       Genres  \\\n",
       "App                                                                             \n",
       "Photo Editor & Candy Camera & Grid & ScrapBook                   Art & Design   \n",
       "Coloring book moana                                 Art & Design;Pretend Play   \n",
       "U Launcher Lite – FREE Live Cool Themes, Hide Apps               Art & Design   \n",
       "Sketch - Draw & Paint                                            Art & Design   \n",
       "Pixel Draw - Number Art Coloring Book                 Art & Design;Creativity   \n",
       "\n",
       "                                                        Last Updated  \\\n",
       "App                                                                    \n",
       "Photo Editor & Candy Camera & Grid & ScrapBook       January 7, 2018   \n",
       "Coloring book moana                                 January 15, 2018   \n",
       "U Launcher Lite – FREE Live Cool Themes, Hide Apps    August 1, 2018   \n",
       "Sketch - Draw & Paint                                   June 8, 2018   \n",
       "Pixel Draw - Number Art Coloring Book                  June 20, 2018   \n",
       "\n",
       "                                                           Current Ver  \\\n",
       "App                                                                      \n",
       "Photo Editor & Candy Camera & Grid & ScrapBook                   1.0.0   \n",
       "Coloring book moana                                              2.0.0   \n",
       "U Launcher Lite – FREE Live Cool Themes, Hide Apps               1.2.4   \n",
       "Sketch - Draw & Paint                               Varies with device   \n",
       "Pixel Draw - Number Art Coloring Book                              1.1   \n",
       "\n",
       "                                                     Android Ver  \n",
       "App                                                               \n",
       "Photo Editor & Candy Camera & Grid & ScrapBook      4.0.3 and up  \n",
       "Coloring book moana                                 4.0.3 and up  \n",
       "U Launcher Lite – FREE Live Cool Themes, Hide Apps  4.0.3 and up  \n",
       "Sketch - Draw & Paint                                 4.2 and up  \n",
       "Pixel Draw - Number Art Coloring Book                 4.4 and up  "
      ]
     },
     "execution_count": 26,
     "metadata": {},
     "output_type": "execute_result"
    }
   ],
   "source": [
    "df= pd.read_csv(\"./googleplaystore.csv\",index_col = 0)\n",
    "pd.options.display.max_columns=None\n",
    "df.head()"
   ]
  },
  {
   "cell_type": "markdown",
   "metadata": {},
   "source": [
    "\n",
    "# EJERCICIO 1\n",
    "\n",
    "**Extraer las siguentes estadísticas del conjunto de datos para varias de las varibles disponibles:**"
   ]
  },
  {
   "cell_type": "code",
   "execution_count": 27,
   "metadata": {},
   "outputs": [],
   "source": [
    "df= df[df[\"Category\"].isin([\"DATING\", \"HEALTH_AND_FITNESS\" , \"FINANCE\"])]\n",
    "#Hemos reducido la información del Data set a estos 3 segmentos."
   ]
  },
  {
   "cell_type": "code",
   "execution_count": 28,
   "metadata": {},
   "outputs": [
    {
     "data": {
      "text/html": [
       "<div>\n",
       "<style scoped>\n",
       "    .dataframe tbody tr th:only-of-type {\n",
       "        vertical-align: middle;\n",
       "    }\n",
       "\n",
       "    .dataframe tbody tr th {\n",
       "        vertical-align: top;\n",
       "    }\n",
       "\n",
       "    .dataframe thead th {\n",
       "        text-align: right;\n",
       "    }\n",
       "</style>\n",
       "<table border=\"1\" class=\"dataframe\">\n",
       "  <thead>\n",
       "    <tr style=\"text-align: right;\">\n",
       "      <th></th>\n",
       "      <th>App</th>\n",
       "      <th>Rating</th>\n",
       "    </tr>\n",
       "  </thead>\n",
       "  <tbody>\n",
       "    <tr>\n",
       "      <th>0</th>\n",
       "      <td>Moco+ - Chat, Meet People</td>\n",
       "      <td>4.2</td>\n",
       "    </tr>\n",
       "    <tr>\n",
       "      <th>1</th>\n",
       "      <td>Calculator</td>\n",
       "      <td>2.6</td>\n",
       "    </tr>\n",
       "    <tr>\n",
       "      <th>2</th>\n",
       "      <td>Truth or Dare Pro</td>\n",
       "      <td>NaN</td>\n",
       "    </tr>\n",
       "    <tr>\n",
       "      <th>3</th>\n",
       "      <td>Private Dating, Hide App- Blue for PrivacyHider</td>\n",
       "      <td>NaN</td>\n",
       "    </tr>\n",
       "    <tr>\n",
       "      <th>4</th>\n",
       "      <td>Ad Blocker for SayHi</td>\n",
       "      <td>NaN</td>\n",
       "    </tr>\n",
       "  </tbody>\n",
       "</table>\n",
       "</div>"
      ],
      "text/plain": [
       "                                               App  Rating\n",
       "0                        Moco+ - Chat, Meet People     4.2\n",
       "1                                       Calculator     2.6\n",
       "2                                Truth or Dare Pro     NaN\n",
       "3  Private Dating, Hide App- Blue for PrivacyHider     NaN\n",
       "4                             Ad Blocker for SayHi     NaN"
      ]
     },
     "execution_count": 28,
     "metadata": {},
     "output_type": "execute_result"
    }
   ],
   "source": [
    "df_rating= df[\"Rating\"]\n",
    "df_rating.head().reset_index() # Vimos los valores de \"rating\" para comprobar sí tenia nulos"
   ]
  },
  {
   "cell_type": "code",
   "execution_count": 29,
   "metadata": {},
   "outputs": [],
   "source": [
    "df_rating= df_rating.dropna() # Hemos decidido eliminar los nulos para que no afecte al cálculo de los estadísticos."
   ]
  },
  {
   "cell_type": "markdown",
   "metadata": {},
   "source": [
    "**- Utilizando métodos de pandas: media, mediana, moda, máximo y mínimo**"
   ]
  },
  {
   "cell_type": "code",
   "execution_count": 30,
   "metadata": {},
   "outputs": [
    {
     "data": {
      "text/html": [
       "<div>\n",
       "<style scoped>\n",
       "    .dataframe tbody tr th:only-of-type {\n",
       "        vertical-align: middle;\n",
       "    }\n",
       "\n",
       "    .dataframe tbody tr th {\n",
       "        vertical-align: top;\n",
       "    }\n",
       "\n",
       "    .dataframe thead th {\n",
       "        text-align: right;\n",
       "    }\n",
       "</style>\n",
       "<table border=\"1\" class=\"dataframe\">\n",
       "  <thead>\n",
       "    <tr style=\"text-align: right;\">\n",
       "      <th></th>\n",
       "      <th>Rating</th>\n",
       "    </tr>\n",
       "  </thead>\n",
       "  <tbody>\n",
       "    <tr>\n",
       "      <th>count</th>\n",
       "      <td>815.000000</td>\n",
       "    </tr>\n",
       "    <tr>\n",
       "      <th>mean</th>\n",
       "      <td>4.146258</td>\n",
       "    </tr>\n",
       "    <tr>\n",
       "      <th>std</th>\n",
       "      <td>0.640587</td>\n",
       "    </tr>\n",
       "    <tr>\n",
       "      <th>min</th>\n",
       "      <td>1.000000</td>\n",
       "    </tr>\n",
       "    <tr>\n",
       "      <th>25%</th>\n",
       "      <td>4.000000</td>\n",
       "    </tr>\n",
       "    <tr>\n",
       "      <th>50%</th>\n",
       "      <td>4.300000</td>\n",
       "    </tr>\n",
       "    <tr>\n",
       "      <th>75%</th>\n",
       "      <td>4.600000</td>\n",
       "    </tr>\n",
       "    <tr>\n",
       "      <th>max</th>\n",
       "      <td>5.000000</td>\n",
       "    </tr>\n",
       "  </tbody>\n",
       "</table>\n",
       "</div>"
      ],
      "text/plain": [
       "           Rating\n",
       "count  815.000000\n",
       "mean     4.146258\n",
       "std      0.640587\n",
       "min      1.000000\n",
       "25%      4.000000\n",
       "50%      4.300000\n",
       "75%      4.600000\n",
       "max      5.000000"
      ]
     },
     "execution_count": 30,
     "metadata": {},
     "output_type": "execute_result"
    }
   ],
   "source": [
    "df.describe()   #nos da los datos de \"Rating\" unicamente ya que es de tipo float 64 y todos los demás son object. "
   ]
  },
  {
   "cell_type": "code",
   "execution_count": 31,
   "metadata": {},
   "outputs": [
    {
     "name": "stdout",
     "output_type": "stream",
     "text": [
      "Mediana: Rating        4.3\n",
      "Reviews    1601.0\n",
      "dtype: float64\n"
     ]
    },
    {
     "name": "stderr",
     "output_type": "stream",
     "text": [
      "/var/folders/rp/8_fhdgqx4mv2kkv4dswj4tq40000gn/T/ipykernel_1050/2738199712.py:1: FutureWarning: Dropping of nuisance columns in DataFrame reductions (with 'numeric_only=None') is deprecated; in a future version this will raise TypeError.  Select only valid columns before calling the reduction.\n",
      "  print(\"Mediana:\",df.median())\n"
     ]
    }
   ],
   "source": [
    "print(\"Mediana:\",df.median())"
   ]
  },
  {
   "cell_type": "code",
   "execution_count": 32,
   "metadata": {},
   "outputs": [
    {
     "name": "stdout",
     "output_type": "stream",
     "text": [
      "Moda: 0    4.4\n",
      "dtype: float64\n"
     ]
    }
   ],
   "source": [
    "print(\"Moda:\",df[\"Rating\"].mode())"
   ]
  },
  {
   "cell_type": "markdown",
   "metadata": {},
   "source": [
    "**- Percentiles 25, 75**"
   ]
  },
  {
   "cell_type": "code",
   "execution_count": 33,
   "metadata": {},
   "outputs": [
    {
     "name": "stdout",
     "output_type": "stream",
     "text": [
      "El percentil 25 es: 4.0\n",
      "El percentil 75 es: 4.6\n"
     ]
    }
   ],
   "source": [
    "percentil25= np.percentile(df_rating,25,axis=None, out=None, overwrite_input=False, interpolation='linear', keepdims=False)\n",
    "print(\"El percentil 25 es:\", percentil25)\n",
    "\n",
    "percentil75= np.percentile(df_rating,75,axis=None, out=None, overwrite_input=False, interpolation='linear', keepdims=False)\n",
    "print(\"El percentil 75 es:\", percentil75)"
   ]
  },
  {
   "cell_type": "markdown",
   "metadata": {},
   "source": [
    "**- Rango Intercualtílico**"
   ]
  },
  {
   "cell_type": "code",
   "execution_count": 34,
   "metadata": {},
   "outputs": [
    {
     "name": "stdout",
     "output_type": "stream",
     "text": [
      "Rango interquartílico: 0.5999999999999996\n"
     ]
    }
   ],
   "source": [
    "q3,q1=np.percentile(df_rating, [75,25])\n",
    "riq= q3 - q1\n",
    "\n",
    "print(\"Rango interquartílico:\", riq)"
   ]
  },
  {
   "cell_type": "markdown",
   "metadata": {},
   "source": [
    "**- Boxplot de algunas variables**"
   ]
  },
  {
   "cell_type": "code",
   "execution_count": 35,
   "metadata": {},
   "outputs": [
    {
     "data": {
      "image/png": "[encoded data removed]",
      "text/plain": [
       "<Figure size 900x600 with 1 Axes>"
      ]
     },
     "metadata": {},
     "output_type": "display_data"
    }
   ],
   "source": [
    "fig = plt.figure(1, figsize=(9, 6))\n",
    "\n",
    "ax = fig.add_subplot(111)\n",
    "bp = ax.boxplot(df_rating)\n",
    "\n",
    "# En 'fliers' se guardan aquellos datos que se encuentran más aislados de los demás (outliers)\n",
    "for flier in bp['fliers']:\n",
    "    flier.set(marker='o', color='red', alpha=0.5)"
   ]
  },
  {
   "cell_type": "markdown",
   "metadata": {},
   "source": [
    "**- Tabla de frecuencias**"
   ]
  },
  {
   "cell_type": "code",
   "execution_count": 36,
   "metadata": {},
   "outputs": [
    {
     "data": {
      "text/html": [
       "<div>\n",
       "<style scoped>\n",
       "    .dataframe tbody tr th:only-of-type {\n",
       "        vertical-align: middle;\n",
       "    }\n",
       "\n",
       "    .dataframe tbody tr th {\n",
       "        vertical-align: top;\n",
       "    }\n",
       "\n",
       "    .dataframe thead th {\n",
       "        text-align: right;\n",
       "    }\n",
       "</style>\n",
       "<table border=\"1\" class=\"dataframe\">\n",
       "  <thead>\n",
       "    <tr style=\"text-align: right;\">\n",
       "      <th></th>\n",
       "      <th>Category</th>\n",
       "      <th>Rating</th>\n",
       "      <th>Reviews</th>\n",
       "      <th>Size</th>\n",
       "      <th>Installs</th>\n",
       "      <th>Type</th>\n",
       "      <th>Price</th>\n",
       "      <th>Content Rating</th>\n",
       "      <th>Genres</th>\n",
       "      <th>Last Updated</th>\n",
       "      <th>Current Ver</th>\n",
       "      <th>Android Ver</th>\n",
       "    </tr>\n",
       "    <tr>\n",
       "      <th>App</th>\n",
       "      <th></th>\n",
       "      <th></th>\n",
       "      <th></th>\n",
       "      <th></th>\n",
       "      <th></th>\n",
       "      <th></th>\n",
       "      <th></th>\n",
       "      <th></th>\n",
       "      <th></th>\n",
       "      <th></th>\n",
       "      <th></th>\n",
       "      <th></th>\n",
       "    </tr>\n",
       "  </thead>\n",
       "  <tbody>\n",
       "    <tr>\n",
       "      <th>Moco+ - Chat, Meet People</th>\n",
       "      <td>DATING</td>\n",
       "      <td>4.2</td>\n",
       "      <td>1545</td>\n",
       "      <td>Varies with device</td>\n",
       "      <td>10,000+</td>\n",
       "      <td>Paid</td>\n",
       "      <td>$3.99</td>\n",
       "      <td>Mature 17+</td>\n",
       "      <td>Dating</td>\n",
       "      <td>June 19, 2018</td>\n",
       "      <td>2.6.139</td>\n",
       "      <td>4.1 and up</td>\n",
       "    </tr>\n",
       "    <tr>\n",
       "      <th>Calculator</th>\n",
       "      <td>DATING</td>\n",
       "      <td>2.6</td>\n",
       "      <td>57</td>\n",
       "      <td>6.2M</td>\n",
       "      <td>1,000+</td>\n",
       "      <td>Paid</td>\n",
       "      <td>$6.99</td>\n",
       "      <td>Everyone</td>\n",
       "      <td>Dating</td>\n",
       "      <td>October 25, 2017</td>\n",
       "      <td>1.1.6</td>\n",
       "      <td>4.0 and up</td>\n",
       "    </tr>\n",
       "    <tr>\n",
       "      <th>Truth or Dare Pro</th>\n",
       "      <td>DATING</td>\n",
       "      <td>NaN</td>\n",
       "      <td>0</td>\n",
       "      <td>20M</td>\n",
       "      <td>50+</td>\n",
       "      <td>Paid</td>\n",
       "      <td>$1.49</td>\n",
       "      <td>Teen</td>\n",
       "      <td>Dating</td>\n",
       "      <td>September 1, 2017</td>\n",
       "      <td>1.0</td>\n",
       "      <td>4.0 and up</td>\n",
       "    </tr>\n",
       "    <tr>\n",
       "      <th>Private Dating, Hide App- Blue for PrivacyHider</th>\n",
       "      <td>DATING</td>\n",
       "      <td>NaN</td>\n",
       "      <td>0</td>\n",
       "      <td>18k</td>\n",
       "      <td>100+</td>\n",
       "      <td>Paid</td>\n",
       "      <td>$2.99</td>\n",
       "      <td>Everyone</td>\n",
       "      <td>Dating</td>\n",
       "      <td>July 25, 2017</td>\n",
       "      <td>1.0.1</td>\n",
       "      <td>4.0 and up</td>\n",
       "    </tr>\n",
       "    <tr>\n",
       "      <th>Ad Blocker for SayHi</th>\n",
       "      <td>DATING</td>\n",
       "      <td>NaN</td>\n",
       "      <td>4</td>\n",
       "      <td>1.2M</td>\n",
       "      <td>100+</td>\n",
       "      <td>Paid</td>\n",
       "      <td>$3.99</td>\n",
       "      <td>Teen</td>\n",
       "      <td>Dating</td>\n",
       "      <td>August 2, 2018</td>\n",
       "      <td>1.2</td>\n",
       "      <td>4.0.3 and up</td>\n",
       "    </tr>\n",
       "  </tbody>\n",
       "</table>\n",
       "</div>"
      ],
      "text/plain": [
       "                                                Category  Rating Reviews  \\\n",
       "App                                                                        \n",
       "Moco+ - Chat, Meet People                         DATING     4.2    1545   \n",
       "Calculator                                        DATING     2.6      57   \n",
       "Truth or Dare Pro                                 DATING     NaN       0   \n",
       "Private Dating, Hide App- Blue for PrivacyHider   DATING     NaN       0   \n",
       "Ad Blocker for SayHi                              DATING     NaN       4   \n",
       "\n",
       "                                                               Size Installs  \\\n",
       "App                                                                            \n",
       "Moco+ - Chat, Meet People                        Varies with device  10,000+   \n",
       "Calculator                                                     6.2M   1,000+   \n",
       "Truth or Dare Pro                                               20M      50+   \n",
       "Private Dating, Hide App- Blue for PrivacyHider                 18k     100+   \n",
       "Ad Blocker for SayHi                                           1.2M     100+   \n",
       "\n",
       "                                                 Type  Price Content Rating  \\\n",
       "App                                                                           \n",
       "Moco+ - Chat, Meet People                        Paid  $3.99     Mature 17+   \n",
       "Calculator                                       Paid  $6.99       Everyone   \n",
       "Truth or Dare Pro                                Paid  $1.49           Teen   \n",
       "Private Dating, Hide App- Blue for PrivacyHider  Paid  $2.99       Everyone   \n",
       "Ad Blocker for SayHi                             Paid  $3.99           Teen   \n",
       "\n",
       "                                                 Genres       Last Updated  \\\n",
       "App                                                                          \n",
       "Moco+ - Chat, Meet People                        Dating      June 19, 2018   \n",
       "Calculator                                       Dating   October 25, 2017   \n",
       "Truth or Dare Pro                                Dating  September 1, 2017   \n",
       "Private Dating, Hide App- Blue for PrivacyHider  Dating      July 25, 2017   \n",
       "Ad Blocker for SayHi                             Dating     August 2, 2018   \n",
       "\n",
       "                                                Current Ver   Android Ver  \n",
       "App                                                                        \n",
       "Moco+ - Chat, Meet People                           2.6.139    4.1 and up  \n",
       "Calculator                                            1.1.6    4.0 and up  \n",
       "Truth or Dare Pro                                       1.0    4.0 and up  \n",
       "Private Dating, Hide App- Blue for PrivacyHider       1.0.1    4.0 and up  \n",
       "Ad Blocker for SayHi                                    1.2  4.0.3 and up  "
      ]
     },
     "execution_count": 36,
     "metadata": {},
     "output_type": "execute_result"
    }
   ],
   "source": [
    "df.head() #Recordamos DF"
   ]
  },
  {
   "cell_type": "markdown",
   "metadata": {},
   "source": [
    ">Variables cualitativas"
   ]
  },
  {
   "cell_type": "code",
   "execution_count": 37,
   "metadata": {},
   "outputs": [
    {
     "data": {
      "text/plain": [
       "array(['Dating', 'Finance', 'Health & Fitness'], dtype=object)"
      ]
     },
     "execution_count": 37,
     "metadata": {},
     "output_type": "execute_result"
    }
   ],
   "source": [
    "df[\"Genres\"].unique() #Queremos ver las diferentes temas que nos encontramos en género."
   ]
  },
  {
   "cell_type": "code",
   "execution_count": 38,
   "metadata": {},
   "outputs": [
    {
     "name": "stdout",
     "output_type": "stream",
     "text": [
      "Cantidad de Apps por categoria:                   frecuencia\n",
      "Genres                      \n",
      "Dating                   234\n",
      "Finance                  366\n",
      "Health & Fitness         341\n"
     ]
    }
   ],
   "source": [
    "#Para calcular la frecuencia con la que aparecen los diferentes géneros.\n",
    "df_genres= df.groupby(\"Genres\") #Primero agrupamos\n",
    "frecuencia_genres = df_genres.agg(frecuencia= (\"Genres\", \"count\")) # Conteo de los datos ya agrupados\n",
    "print(\"Cantidad de Apps por categoria:\",frecuencia_genres)"
   ]
  },
  {
   "cell_type": "markdown",
   "metadata": {},
   "source": [
    ">Variables cuantitativas"
   ]
  },
  {
   "cell_type": "code",
   "execution_count": 39,
   "metadata": {},
   "outputs": [
    {
     "data": {
      "text/plain": [
       "array([4.2, 2.6, nan, 3.5, 4. , 4.1, 3.7, 4.5, 4.4, 3.1, 3.9, 4.3, 3.3,\n",
       "       3.6, 3.4, 3. , 4.6, 1.9, 2.5, 3.8, 2.8, 4.8, 4.7, 2.7, 5. , 4.9,\n",
       "       1. , 2.9, 2.3, 2. , 2.4, 1.4, 2.2, 2.1, 1.7, 3.2, 1.5, 1.2])"
      ]
     },
     "execution_count": 39,
     "metadata": {},
     "output_type": "execute_result"
    }
   ],
   "source": [
    "df[\"Rating\"].unique()"
   ]
  },
  {
   "cell_type": "code",
   "execution_count": 40,
   "metadata": {},
   "outputs": [
    {
     "name": "stdout",
     "output_type": "stream",
     "text": [
      "Frecuencia de valoraciones:         frecuencia\n",
      "Rating            \n",
      "1.0              3\n",
      "1.2              1\n",
      "1.4              1\n",
      "1.5              1\n",
      "1.7              1\n",
      "1.9              3\n",
      "2.0              3\n",
      "2.1              2\n",
      "2.2              3\n",
      "2.3              3\n",
      "2.4              5\n",
      "2.5              4\n",
      "2.6              5\n",
      "2.7              4\n",
      "2.8              6\n",
      "2.9             10\n",
      "3.0              8\n",
      "3.1              2\n",
      "3.2              3\n",
      "3.3             10\n",
      "3.4             13\n",
      "3.5             25\n",
      "3.6             14\n",
      "3.7             16\n",
      "3.8             16\n",
      "3.9             30\n",
      "4.0             51\n",
      "4.1             66\n",
      "4.2             66\n",
      "4.3             57\n",
      "4.4             91\n",
      "4.5             87\n",
      "4.6             83\n",
      "4.7             48\n",
      "4.8             39\n",
      "4.9              9\n",
      "5.0             26\n"
     ]
    }
   ],
   "source": [
    "# Frecuencia de las valoraciones \n",
    "df= df.groupby(\"Rating\")\n",
    "frecuencia_rating = df.agg(frecuencia= (\"Rating\", \"count\"))\n",
    "print(\"Frecuencia de valoraciones:\",frecuencia_rating)"
   ]
  },
  {
   "cell_type": "markdown",
   "metadata": {},
   "source": [
    ">Frecuencia acumulada"
   ]
  },
  {
   "cell_type": "code",
   "execution_count": 41,
   "metadata": {},
   "outputs": [
    {
     "data": {
      "text/html": [
       "<div>\n",
       "<style scoped>\n",
       "    .dataframe tbody tr th:only-of-type {\n",
       "        vertical-align: middle;\n",
       "    }\n",
       "\n",
       "    .dataframe tbody tr th {\n",
       "        vertical-align: top;\n",
       "    }\n",
       "\n",
       "    .dataframe thead th {\n",
       "        text-align: right;\n",
       "    }\n",
       "</style>\n",
       "<table border=\"1\" class=\"dataframe\">\n",
       "  <thead>\n",
       "    <tr style=\"text-align: right;\">\n",
       "      <th></th>\n",
       "      <th>Category</th>\n",
       "      <th>Rating</th>\n",
       "      <th>Reviews</th>\n",
       "      <th>Size</th>\n",
       "      <th>Installs</th>\n",
       "      <th>Type</th>\n",
       "      <th>Price</th>\n",
       "      <th>Content Rating</th>\n",
       "      <th>Genres</th>\n",
       "      <th>Last Updated</th>\n",
       "      <th>Current Ver</th>\n",
       "      <th>Android Ver</th>\n",
       "    </tr>\n",
       "    <tr>\n",
       "      <th>App</th>\n",
       "      <th></th>\n",
       "      <th></th>\n",
       "      <th></th>\n",
       "      <th></th>\n",
       "      <th></th>\n",
       "      <th></th>\n",
       "      <th></th>\n",
       "      <th></th>\n",
       "      <th></th>\n",
       "      <th></th>\n",
       "      <th></th>\n",
       "      <th></th>\n",
       "    </tr>\n",
       "  </thead>\n",
       "  <tbody>\n",
       "    <tr>\n",
       "      <th>Moco+ - Chat, Meet People</th>\n",
       "      <td>DATING</td>\n",
       "      <td>4.2</td>\n",
       "      <td>1545</td>\n",
       "      <td>Varies with device</td>\n",
       "      <td>10,000+</td>\n",
       "      <td>Paid</td>\n",
       "      <td>$3.99</td>\n",
       "      <td>Mature 17+</td>\n",
       "      <td>Dating</td>\n",
       "      <td>June 19, 2018</td>\n",
       "      <td>2.6.139</td>\n",
       "      <td>4.1 and up</td>\n",
       "    </tr>\n",
       "    <tr>\n",
       "      <th>Calculator</th>\n",
       "      <td>DATING</td>\n",
       "      <td>2.6</td>\n",
       "      <td>57</td>\n",
       "      <td>6.2M</td>\n",
       "      <td>1,000+</td>\n",
       "      <td>Paid</td>\n",
       "      <td>$6.99</td>\n",
       "      <td>Everyone</td>\n",
       "      <td>Dating</td>\n",
       "      <td>October 25, 2017</td>\n",
       "      <td>1.1.6</td>\n",
       "      <td>4.0 and up</td>\n",
       "    </tr>\n",
       "    <tr>\n",
       "      <th>Truth or Dare Pro</th>\n",
       "      <td>DATING</td>\n",
       "      <td>NaN</td>\n",
       "      <td>0</td>\n",
       "      <td>20M</td>\n",
       "      <td>50+</td>\n",
       "      <td>Paid</td>\n",
       "      <td>$1.49</td>\n",
       "      <td>Teen</td>\n",
       "      <td>Dating</td>\n",
       "      <td>September 1, 2017</td>\n",
       "      <td>1.0</td>\n",
       "      <td>4.0 and up</td>\n",
       "    </tr>\n",
       "    <tr>\n",
       "      <th>Private Dating, Hide App- Blue for PrivacyHider</th>\n",
       "      <td>DATING</td>\n",
       "      <td>NaN</td>\n",
       "      <td>0</td>\n",
       "      <td>18k</td>\n",
       "      <td>100+</td>\n",
       "      <td>Paid</td>\n",
       "      <td>$2.99</td>\n",
       "      <td>Everyone</td>\n",
       "      <td>Dating</td>\n",
       "      <td>July 25, 2017</td>\n",
       "      <td>1.0.1</td>\n",
       "      <td>4.0 and up</td>\n",
       "    </tr>\n",
       "    <tr>\n",
       "      <th>Ad Blocker for SayHi</th>\n",
       "      <td>DATING</td>\n",
       "      <td>NaN</td>\n",
       "      <td>4</td>\n",
       "      <td>1.2M</td>\n",
       "      <td>100+</td>\n",
       "      <td>Paid</td>\n",
       "      <td>$3.99</td>\n",
       "      <td>Teen</td>\n",
       "      <td>Dating</td>\n",
       "      <td>August 2, 2018</td>\n",
       "      <td>1.2</td>\n",
       "      <td>4.0.3 and up</td>\n",
       "    </tr>\n",
       "  </tbody>\n",
       "</table>\n",
       "</div>"
      ],
      "text/plain": [
       "                                                Category  Rating Reviews  \\\n",
       "App                                                                        \n",
       "Moco+ - Chat, Meet People                         DATING     4.2    1545   \n",
       "Calculator                                        DATING     2.6      57   \n",
       "Truth or Dare Pro                                 DATING     NaN       0   \n",
       "Private Dating, Hide App- Blue for PrivacyHider   DATING     NaN       0   \n",
       "Ad Blocker for SayHi                              DATING     NaN       4   \n",
       "\n",
       "                                                               Size Installs  \\\n",
       "App                                                                            \n",
       "Moco+ - Chat, Meet People                        Varies with device  10,000+   \n",
       "Calculator                                                     6.2M   1,000+   \n",
       "Truth or Dare Pro                                               20M      50+   \n",
       "Private Dating, Hide App- Blue for PrivacyHider                 18k     100+   \n",
       "Ad Blocker for SayHi                                           1.2M     100+   \n",
       "\n",
       "                                                 Type  Price Content Rating  \\\n",
       "App                                                                           \n",
       "Moco+ - Chat, Meet People                        Paid  $3.99     Mature 17+   \n",
       "Calculator                                       Paid  $6.99       Everyone   \n",
       "Truth or Dare Pro                                Paid  $1.49           Teen   \n",
       "Private Dating, Hide App- Blue for PrivacyHider  Paid  $2.99       Everyone   \n",
       "Ad Blocker for SayHi                             Paid  $3.99           Teen   \n",
       "\n",
       "                                                 Genres       Last Updated  \\\n",
       "App                                                                          \n",
       "Moco+ - Chat, Meet People                        Dating      June 19, 2018   \n",
       "Calculator                                       Dating   October 25, 2017   \n",
       "Truth or Dare Pro                                Dating  September 1, 2017   \n",
       "Private Dating, Hide App- Blue for PrivacyHider  Dating      July 25, 2017   \n",
       "Ad Blocker for SayHi                             Dating     August 2, 2018   \n",
       "\n",
       "                                                Current Ver   Android Ver  \n",
       "App                                                                        \n",
       "Moco+ - Chat, Meet People                           2.6.139    4.1 and up  \n",
       "Calculator                                            1.1.6    4.0 and up  \n",
       "Truth or Dare Pro                                       1.0    4.0 and up  \n",
       "Private Dating, Hide App- Blue for PrivacyHider       1.0.1    4.0 and up  \n",
       "Ad Blocker for SayHi                                    1.2  4.0.3 and up  "
      ]
     },
     "execution_count": 41,
     "metadata": {},
     "output_type": "execute_result"
    }
   ],
   "source": [
    "df= pd.read_csv(\"./googleplaystore.csv\",index_col = 0)\n",
    "pd.options.display.max_columns=None\n",
    "df= df[df[\"Category\"].isin([\"DATING\", \"HEALTH_AND_FITNESS\" , \"FINANCE\"])]\n",
    "df.head()\n",
    "\n",
    "#Leemos de nuevo el DF, ya que hemos realizado modificaciones en \"Rating\", y \n",
    "#queremos los valores y el estado del DF inicial, para no tener que volver a leer, en otros ejercicios, realizaremos copias de los DF originales."
   ]
  },
  {
   "cell_type": "code",
   "execution_count": 42,
   "metadata": {},
   "outputs": [
    {
     "data": {
      "text/plain": [
       "(941, 12)"
      ]
     },
     "execution_count": 42,
     "metadata": {},
     "output_type": "execute_result"
    }
   ],
   "source": [
    "df.shape"
   ]
  },
  {
   "cell_type": "code",
   "execution_count": 43,
   "metadata": {},
   "outputs": [
    {
     "data": {
      "text/html": [
       "<div>\n",
       "<style scoped>\n",
       "    .dataframe tbody tr th:only-of-type {\n",
       "        vertical-align: middle;\n",
       "    }\n",
       "\n",
       "    .dataframe tbody tr th {\n",
       "        vertical-align: top;\n",
       "    }\n",
       "\n",
       "    .dataframe thead th {\n",
       "        text-align: right;\n",
       "    }\n",
       "</style>\n",
       "<table border=\"1\" class=\"dataframe\">\n",
       "  <thead>\n",
       "    <tr style=\"text-align: right;\">\n",
       "      <th></th>\n",
       "      <th>frecuencia</th>\n",
       "      <th>frecuencia_acumulada</th>\n",
       "    </tr>\n",
       "    <tr>\n",
       "      <th>Rating</th>\n",
       "      <th></th>\n",
       "      <th></th>\n",
       "    </tr>\n",
       "  </thead>\n",
       "  <tbody>\n",
       "    <tr>\n",
       "      <th>(1.0, 1.5]</th>\n",
       "      <td>3</td>\n",
       "      <td>3</td>\n",
       "    </tr>\n",
       "    <tr>\n",
       "      <th>(1.5, 2.0]</th>\n",
       "      <td>7</td>\n",
       "      <td>10</td>\n",
       "    </tr>\n",
       "    <tr>\n",
       "      <th>(2.0, 2.5]</th>\n",
       "      <td>17</td>\n",
       "      <td>27</td>\n",
       "    </tr>\n",
       "    <tr>\n",
       "      <th>(2.5, 3.0]</th>\n",
       "      <td>33</td>\n",
       "      <td>60</td>\n",
       "    </tr>\n",
       "    <tr>\n",
       "      <th>(3.0, 3.5]</th>\n",
       "      <td>53</td>\n",
       "      <td>113</td>\n",
       "    </tr>\n",
       "    <tr>\n",
       "      <th>(3.5, 4.0]</th>\n",
       "      <td>127</td>\n",
       "      <td>240</td>\n",
       "    </tr>\n",
       "    <tr>\n",
       "      <th>(4.0, 4.5]</th>\n",
       "      <td>367</td>\n",
       "      <td>607</td>\n",
       "    </tr>\n",
       "    <tr>\n",
       "      <th>(4.5, 5.0]</th>\n",
       "      <td>205</td>\n",
       "      <td>812</td>\n",
       "    </tr>\n",
       "  </tbody>\n",
       "</table>\n",
       "</div>"
      ],
      "text/plain": [
       "            frecuencia  frecuencia_acumulada\n",
       "Rating                                      \n",
       "(1.0, 1.5]           3                     3\n",
       "(1.5, 2.0]           7                    10\n",
       "(2.0, 2.5]          17                    27\n",
       "(2.5, 3.0]          33                    60\n",
       "(3.0, 3.5]          53                   113\n",
       "(3.5, 4.0]         127                   240\n",
       "(4.0, 4.5]         367                   607\n",
       "(4.5, 5.0]         205                   812"
      ]
     },
     "execution_count": 43,
     "metadata": {},
     "output_type": "execute_result"
    }
   ],
   "source": [
    "df= df[df[\"Category\"].isin([\"DATING\", \"HEALTH_AND_FITNESS\" , \"FINANCE\"])]\n",
    "\n",
    "bins = np.arange(1, 5+0.5, 0.5)\n",
    "\n",
    "df[\"Rating\"] = pd.cut(df[\"Rating\"], bins=bins)\n",
    "df_agrupado = df.groupby(\"Rating\")\n",
    "df_agrupado_2 =  df_agrupado.agg(frecuencia=(\"Rating\", \"count\"))\n",
    "\n",
    "#Calculamos una nueva columna del DataFrame llamada frecuencia acumulada usando cumsum() sobre la frecuencia\n",
    "df_agrupado_2[\"frecuencia_acumulada\"] = df_agrupado_2[\"frecuencia\"].cumsum()\n",
    "#Visualizamos el dataframe resultado\n",
    "df_agrupado_2"
   ]
  },
  {
   "cell_type": "code",
   "execution_count": 44,
   "metadata": {},
   "outputs": [
    {
     "name": "stdout",
     "output_type": "stream",
     "text": [
      "<class 'pandas.core.frame.DataFrame'>\n",
      "Index: 941 entries, Moco+ - Chat, Meet People to Gold Quote - Gold.fr\n",
      "Data columns (total 12 columns):\n",
      " #   Column          Non-Null Count  Dtype   \n",
      "---  ------          --------------  -----   \n",
      " 0   Category        941 non-null    object  \n",
      " 1   Rating          812 non-null    category\n",
      " 2   Reviews         941 non-null    object  \n",
      " 3   Size            941 non-null    object  \n",
      " 4   Installs        941 non-null    object  \n",
      " 5   Type            941 non-null    object  \n",
      " 6   Price           941 non-null    object  \n",
      " 7   Content Rating  941 non-null    object  \n",
      " 8   Genres          941 non-null    object  \n",
      " 9   Last Updated    941 non-null    object  \n",
      " 10  Current Ver     941 non-null    object  \n",
      " 11  Android Ver     941 non-null    object  \n",
      "dtypes: category(1), object(11)\n",
      "memory usage: 89.6+ KB\n"
     ]
    }
   ],
   "source": [
    "df.info()"
   ]
  },
  {
   "cell_type": "code",
   "execution_count": 45,
   "metadata": {},
   "outputs": [],
   "source": [
    "df['Reviews'] = df['Reviews'].astype('int64') # \"Reviews\" aparece como object y necesitamos que sea de tipo int64 para poder realizar los analisis que necesitamos, por ello cambiamos su forma."
   ]
  },
  {
   "cell_type": "code",
   "execution_count": 46,
   "metadata": {},
   "outputs": [
    {
     "data": {
      "text/html": [
       "<div>\n",
       "<style scoped>\n",
       "    .dataframe tbody tr th:only-of-type {\n",
       "        vertical-align: middle;\n",
       "    }\n",
       "\n",
       "    .dataframe tbody tr th {\n",
       "        vertical-align: top;\n",
       "    }\n",
       "\n",
       "    .dataframe thead th {\n",
       "        text-align: right;\n",
       "    }\n",
       "</style>\n",
       "<table border=\"1\" class=\"dataframe\">\n",
       "  <thead>\n",
       "    <tr style=\"text-align: right;\">\n",
       "      <th></th>\n",
       "      <th>frecuencia</th>\n",
       "      <th>frecuencia_acumulada</th>\n",
       "    </tr>\n",
       "    <tr>\n",
       "      <th>Reviews</th>\n",
       "      <th></th>\n",
       "      <th></th>\n",
       "    </tr>\n",
       "  </thead>\n",
       "  <tbody>\n",
       "    <tr>\n",
       "      <th>(-4559.407, 911881.4]</th>\n",
       "      <td>932</td>\n",
       "      <td>932</td>\n",
       "    </tr>\n",
       "    <tr>\n",
       "      <th>(911881.4, 1823762.8]</th>\n",
       "      <td>3</td>\n",
       "      <td>935</td>\n",
       "    </tr>\n",
       "    <tr>\n",
       "      <th>(1823762.8, 2735644.2]</th>\n",
       "      <td>5</td>\n",
       "      <td>940</td>\n",
       "    </tr>\n",
       "    <tr>\n",
       "      <th>(2735644.2, 3647525.6]</th>\n",
       "      <td>0</td>\n",
       "      <td>940</td>\n",
       "    </tr>\n",
       "    <tr>\n",
       "      <th>(3647525.6, 4559407.0]</th>\n",
       "      <td>1</td>\n",
       "      <td>941</td>\n",
       "    </tr>\n",
       "  </tbody>\n",
       "</table>\n",
       "</div>"
      ],
      "text/plain": [
       "                        frecuencia  frecuencia_acumulada\n",
       "Reviews                                                 \n",
       "(-4559.407, 911881.4]          932                   932\n",
       "(911881.4, 1823762.8]            3                   935\n",
       "(1823762.8, 2735644.2]           5                   940\n",
       "(2735644.2, 3647525.6]           0                   940\n",
       "(3647525.6, 4559407.0]           1                   941"
      ]
     },
     "execution_count": 46,
     "metadata": {},
     "output_type": "execute_result"
    }
   ],
   "source": [
    "df[\"Reviews\"] = pd.cut(df[\"Reviews\"], 5) \n",
    "df_agrupadox = df.groupby(\"Reviews\")\n",
    "df_agrupado_2x =  df_agrupadox.agg(frecuencia=(\"Reviews\", \"count\"))\n",
    "\n",
    "#Calculamos una nueva columna del DataFrame llamada frecuencia acumulada usando cumsum() sobre la frecuencia\n",
    "df_agrupado_2x[\"frecuencia_acumulada\"] = df_agrupado_2x[\"frecuencia\"].cumsum()\n",
    "df_agrupado_2x"
   ]
  },
  {
   "cell_type": "markdown",
   "metadata": {},
   "source": [
    ">Representación de al menos una tabla de frecuencias"
   ]
  },
  {
   "cell_type": "markdown",
   "metadata": {},
   "source": [
    "<font color=violet>Cualitativa"
   ]
  },
  {
   "cell_type": "code",
   "execution_count": 47,
   "metadata": {},
   "outputs": [
    {
     "data": {
      "text/plain": [
       "<AxesSubplot:xlabel='Genres'>"
      ]
     },
     "execution_count": 47,
     "metadata": {},
     "output_type": "execute_result"
    },
    {
     "data": {
      "image/png": "[encoded data removed]",
      "text/plain": [
       "<Figure size 640x480 with 1 Axes>"
      ]
     },
     "metadata": {},
     "output_type": "display_data"
    }
   ],
   "source": [
    "plt.rcdefaults()\n",
    "\n",
    "tabla_frecuencia = df.groupby(\"Genres\") #agrupamos los datos de la columna \"Genres\"\n",
    "frecuencias_cualitativa = tabla_frecuencia.agg(frecuencia=(\"Genres\", \"count\"))  #Pedimos conteo rto de agrupar\n",
    "\n",
    "frecuencias_cualitativa.plot.bar() # Representamos en gráfica.\n",
    "\n"
   ]
  },
  {
   "cell_type": "markdown",
   "metadata": {},
   "source": [
    "<font color=violet>Cuantitativa"
   ]
  },
  {
   "cell_type": "code",
   "execution_count": 48,
   "metadata": {},
   "outputs": [
    {
     "data": {
      "text/plain": [
       "<AxesSubplot:xlabel='Rating', ylabel='Count'>"
      ]
     },
     "execution_count": 48,
     "metadata": {},
     "output_type": "execute_result"
    },
    {
     "data": {
      "image/png": "[encoded data removed]",
      "text/plain": [
       "<Figure size 640x480 with 1 Axes>"
      ]
     },
     "metadata": {},
     "output_type": "display_data"
    }
   ],
   "source": [
    "sns.histplot(df_rating.reset_index(),x=\"Rating\") #Utilizamos Seaborn, por que tenemos problemas con este Dataset y Matplotlib."
   ]
  },
  {
   "cell_type": "markdown",
   "metadata": {},
   "source": [
    "# EJERCICIO 2\n",
    "\n",
    "**Interpretación de los resultados.**\n",
    "\n",
    "**Ahora interpreta los resultados obtenidos de los diferentes estadísticos estudiados haciendo incapié en aspectos interesantes de tus datos y explica lo mejor posible la naturaleza de los mismos.**\n"
   ]
  },
  {
   "cell_type": "markdown",
   "metadata": {},
   "source": [
    "La explicación de los resultados, está al final de cada ejercicio."
   ]
  },
  {
   "cell_type": "markdown",
   "metadata": {},
   "source": [
    " <font color=yellow>Nuestro DF  es sobre las Apps de Apps store </font> \n",
    "\n",
    "\n",
    "👉🏻 *Rating*:  Es la valoración que los usuarios dan a las Apps de 0 a 5 ⭐️⭐️⭐️⭐️⭐️\n",
    "\n",
    "- Mean : Es la media  de calificación de las aplicaciones es de 4.14 en el varemo de 0 a 5.\n",
    "\n",
    "- Std: La desviación típica de 0.64 nos muestra al tener valor entre 0 y 1, nos indica que los valores están agrupados cerca de su media.\n",
    "\n",
    "- Min: Es el valor mínimo de los datos, en nuestro caso la mínima puntuación fué de 1\n",
    "\n",
    "- Max: Es el valor máximo de los datos, en nuestro caso la máxima puntuación fué de 5\n",
    "\n",
    "- 25%: Significa que el 25% de los usuarios dieron la misma nota hasta 4.0 \n",
    "\n",
    "- 50%: Significa que el 50% de los usuarios dieron la misma nota de 4.0 a 4.3\n",
    "\n",
    "- 75%: Significa que el 75% de los usuarios dieron la misma nota de 4.3 a 4.6\n",
    "\n",
    "- Median(): Es la posición central que parte la distribución en dos, en nuestro caso, tomamos 4.3 como la mediana.\n",
    "\n",
    "- Mode(): 4.4 es la calificación que más se repite entre los usuarios.\n",
    "\n",
    "- Rango intercuartílico:  es un medida de dispersión de un conjunto de datos que expresa la diferencia o la distancia entre el primer y el tercer cuartil de una distribución utilizado en el diagrama de caja, en nuestro caso esta distancia es de 0.5999999999999996.\n",
    "\n",
    "- Variables cualitativa:   Identificamos que en google store, existen 366 Apps de \"Fianzas\" , 341 Apps de \"Health & Fitness\" y 234 de \"Dating\"\n",
    "\n",
    "- Variable cuantitativa:   Identificamos  la frecuencia de cada puntuación.\n",
    "\n",
    "- Frecuencia acumulada:     Se representa la frecuencia de cada uno de los datos pero en divisiones o \"rangos\" , bins."
   ]
  }
 ],
 "metadata": {
  "interpreter": {
   "hash": "40d3a090f54c6569ab1632332b64b2c03c39dcf918b08424e98f38b5ae0af88f"
  },
  "kernelspec": {
   "display_name": "Python 3.9.7 ('base')",
   "language": "python",
   "name": "python3"
  },
  "language_info": {
   "codemirror_mode": {
    "name": "ipython",
    "version": 3
   },
   "file_extension": ".py",
   "mimetype": "text/x-python",
   "name": "python",
   "nbconvert_exporter": "python",
   "pygments_lexer": "ipython3",
   "version": "3.9.7"
  },
  "orig_nbformat": 4
 },
 "nbformat": 4,
 "nbformat_minor": 2
}
